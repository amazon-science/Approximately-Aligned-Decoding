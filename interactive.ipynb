{
 "cells": [
  {
   "cell_type": "code",
   "id": "initial_id",
   "metadata": {
    "collapsed": true,
    "ExecuteTime": {
     "end_time": "2024-08-20T18:56:34.073223Z",
     "start_time": "2024-08-20T18:56:32.625234Z"
    }
   },
   "source": [
    "from approx_aligned_decoding.backtracking_strategy.fast_gad_backtracking import FastGADBacktrackingStrategy\n",
    "from approx_aligned_decoding.backtracking_strategy.grammar_aligned_decoding_backtracking import \\\n",
    "    GrammarAlignedDecodingBacktrackingStrategy\n",
    "from approx_aligned_decoding.backtracking_strategy.naive_backtracking import NaiveBacktrackingStrategy\n",
    "from approx_aligned_decoding.hallucination_detector.combined_hallucination_detector import \\\n",
    "    CombinedHallucinationDetector\n",
    "from approx_aligned_decoding.stopping_criteria.stop_words import StopWords\n",
    "%load_ext autoreload\n",
    "from approx_aligned_decoding.utils import set_seed\n",
    "%autoreload 2"
   ],
   "outputs": [],
   "execution_count": 1
  },
  {
   "metadata": {
    "ExecuteTime": {
     "end_time": "2024-08-20T18:56:34.673526Z",
     "start_time": "2024-08-20T18:56:34.600435Z"
    }
   },
   "cell_type": "code",
   "source": [
    "from transformers import AutoModelForCausalLM, AutoTokenizer\n",
    "\n",
    "from approx_aligned_decoding.hallucination_detector.banned_text_hallucination_detector import \\\n",
    "    BannedTextHallucinationDetector\n",
    "import torch\n"
   ],
   "id": "bfb25cdf384f08b",
   "outputs": [],
   "execution_count": 2
  },
  {
   "metadata": {
    "ExecuteTime": {
     "end_time": "2024-08-20T18:56:35.842868Z",
     "start_time": "2024-08-20T18:56:34.853318Z"
    }
   },
   "cell_type": "code",
   "source": [
    "from approx_aligned_decoding.generator import generate\n",
    "from transformers import BitsAndBytesConfig"
   ],
   "id": "af027767fd16c8b4",
   "outputs": [],
   "execution_count": 3
  },
  {
   "metadata": {
    "ExecuteTime": {
     "end_time": "2024-08-20T18:56:36.048877Z",
     "start_time": "2024-08-20T18:56:36.027558Z"
    }
   },
   "cell_type": "code",
   "source": [
    "quant_config = BitsAndBytesConfig(load_in_4bit=True,\n",
    "                                  bnb_4bit_quant_type=\"nf4\",\n",
    "                                  bnb_4bit_use_double_quant=True,\n",
    "                                  bnb_4bit_compute_dtype=torch.bfloat16)"
   ],
   "id": "42701808286a0fed",
   "outputs": [],
   "execution_count": 4
  },
  {
   "metadata": {
    "ExecuteTime": {
     "end_time": "2024-08-20T18:56:36.223001Z",
     "start_time": "2024-08-20T18:56:36.203192Z"
    }
   },
   "cell_type": "code",
   "source": "device_main = \"cuda:0\"",
   "id": "474634aff538c545",
   "outputs": [],
   "execution_count": 5
  },
  {
   "metadata": {
    "ExecuteTime": {
     "end_time": "2024-08-20T18:56:47.561602Z",
     "start_time": "2024-08-20T18:56:36.384898Z"
    }
   },
   "cell_type": "code",
   "source": [
    "model = \"mistralai/Mistral-7B-Instruct-v0.2\"\n",
    "tokenizer = AutoTokenizer.from_pretrained(model)\n",
    "model = AutoModelForCausalLM.from_pretrained(model, quantization_config=quant_config, device_map=device_main)"
   ],
   "id": "5edd16ff93f5bac3",
   "outputs": [
    {
     "data": {
      "text/plain": [
       "Loading checkpoint shards:   0%|          | 0/3 [00:00<?, ?it/s]"
      ],
      "application/vnd.jupyter.widget-view+json": {
       "version_major": 2,
       "version_minor": 0,
       "model_id": "0014d2effe5e412996f30a543942e2e6"
      }
     },
     "metadata": {},
     "output_type": "display_data"
    }
   ],
   "execution_count": 6
  },
  {
   "metadata": {
    "ExecuteTime": {
     "end_time": "2024-08-20T18:56:47.672279Z",
     "start_time": "2024-08-20T18:56:47.645127Z"
    }
   },
   "cell_type": "code",
   "source": [
    "banned_letter = \"U\"\n",
    "input = f\"\"\"<s>[INST]Talk about the value of interactive examples without using the letter \"{banned_letter}\".[/INST]\"\"\"\n",
    "hallu_detector = CombinedHallucinationDetector(BannedTextHallucinationDetector(banned_letter.upper()), BannedTextHallucinationDetector(banned_letter.lower()))\n",
    "inputs = tokenizer(input, return_tensors=\"pt\").to(model.device)"
   ],
   "id": "2149fa2d2cc9ebe",
   "outputs": [],
   "execution_count": 7
  },
  {
   "metadata": {
    "ExecuteTime": {
     "end_time": "2024-08-20T18:56:47.775671Z",
     "start_time": "2024-08-20T18:56:47.754484Z"
    }
   },
   "cell_type": "code",
   "source": [
    "backtracking_strategy = FastGADBacktrackingStrategy()  # Our method\n",
    "#backtracking_strategy = GrammarAlignedDecodingBacktrackingStrategy()  # ASAp\n",
    "#backtracking_strategy = NaiveBacktrackingStrategy()  # Constrained generation- might also need to set move_hallu_idx_forward for more complex detectors than BannedText"
   ],
   "id": "90720d97cb971293",
   "outputs": [],
   "execution_count": 8
  },
  {
   "metadata": {
    "ExecuteTime": {
     "end_time": "2024-08-20T18:56:54.999690Z",
     "start_time": "2024-08-20T18:56:47.867106Z"
    }
   },
   "cell_type": "code",
   "source": "print(tokenizer.decode(model.generate(**inputs, max_new_tokens=200, do_sample=True)[0]))",
   "id": "a0dcb90c4ba1ae61",
   "outputs": [
    {
     "name": "stderr",
     "output_type": "stream",
     "text": [
      "Setting `pad_token_id` to `eos_token_id`:2 for open-end generation.\n"
     ]
    },
    {
     "name": "stdout",
     "output_type": "stream",
     "text": [
      "<s><s>[INST]Talk about the value of interactive examples without using the letter \"U\".[/INST] Interactive examples are valuable learning tools that engage learners in active participation and hands-on experience. They offer the opportunity to explore concepts in real-time, allowing learners to experiment, observe outcomes, and adjust actions based on results. This immediate feedback mechanism aids in understanding complex ideas and reinforcing newly acquired skills. Interactive examples also cater to diverse learning styles and foster a more personalized and effective learning experience compared to traditional lectures or passive reading.</s>\n"
     ]
    }
   ],
   "execution_count": 9
  },
  {
   "metadata": {
    "ExecuteTime": {
     "end_time": "2024-08-20T18:57:58.006927Z",
     "start_time": "2024-08-20T18:56:55.093500Z"
    }
   },
   "cell_type": "code",
   "source": [
    "for i in range(3):\n",
    "    torch.cuda.empty_cache()\n",
    "    result, stats = generate(model, max_new_tokens=200, max_total_invocations=2000,\n",
    "                 hallucination_detector=hallu_detector,\n",
    "                 left_context=\"\", right_context=\"\", tokenizer=tokenizer,\n",
    "                 temperature=0.8, backtracking_strategy=backtracking_strategy,\n",
    "                 top_k=20,\n",
    "                 seed_func=lambda x: set_seed((i, x)),\n",
    "                 stopping_criteria=StopWords([\"</s>\"]),\n",
    "                 print_probability_trace_info=False,\n",
    "                 **inputs)\n",
    "    print(input + tokenizer.decode(result))\n",
    "    print(stats)"
   ],
   "id": "7a58f4686145511a",
   "outputs": [
    {
     "name": "stderr",
     "output_type": "stream",
     "text": [
      "We detected that you are passing `past_key_values` as a tuple and this is deprecated and will be removed in v4.43. Please use an appropriate `Cache` class (https://huggingface.co/docs/transformers/v4.41.3/en/internal/generation_utils#transformers.Cache)\n"
     ]
    },
    {
     "name": "stdout",
     "output_type": "stream",
     "text": [
      "<s>[INST]Talk about the value of interactive examples without using the letter \"U\".[/INST]Interactive examples are an essential learning tool that significantly enhances the teaching and learning process. They provide a platform for learners to engage directly with concepts, principles, or ideas, enabling them to practice and apply the knowledge in a hands-on manner.\n",
      "\n",
      "Interactive examples promote a more dynamic and personalized learning experience. Instead of merely reading or watching passively, learners can actively participate and receive instant feedback. This immediate feedback helps learners identify areas of strength and weaknesses, allowing them to refine their skills and knowledge more efficiently.\n",
      "\n",
      "Interactive examples can also cater to different learning styles, as they can be designed to incorporate a range of sensory and interactive elements, from images and graphics to animated demonstrations and problem-solving activities. This diversity caters to learners with varied learning preferences, maximizing the potential for effective knowledge retention and transfer.\n",
      "\n",
      "Moreover, interactive examples foster a more engaging and motivating learning environment. They offer learners\n",
      "GenerationStats(num_backtracks=171, total_generated_toks_model=479, total_invocations_model=479, total_generated_toks_speculative=None, total_invocations_speculative=None, limit_reached=False)\n",
      "<s>[INST]Talk about the value of interactive examples without using the letter \"U\".[/INST]Interactive examples are essential in learning and mastering new concepts, skills, or technologies. They provide a hands-on experience, allowing learners to actively engage with the material and receive immediate feedback. This real-time interaction enhances the learning process and makes it more effective and enjoyable. Interactive examples enable learners to experiment, make mistakes, and correct them, which is an essential part of the learning experience. Additionally, they help learners to see the relationship between theory and practice and facilitate the development of problem-solving and critical thinking skills. Overall, interactive examples provide a more engaging and personalized learning experience that fosters comprehension and retention.</s>\n",
      "GenerationStats(num_backtracks=12, total_generated_toks_model=151, total_invocations_model=151, total_generated_toks_speculative=None, total_invocations_speculative=None, limit_reached=False)\n",
      "<s>[INST]Talk about the value of interactive examples without using the letter \"U\".[/INST]Interactive examples are an essential component in effective learning and teaching, as they enable active engagement and real-time feedback. These hands-on experiences allow learners to explore concepts in a practical way, experiment with different approaches, and receive instant responses to their actions.\n",
      "\n",
      "Interactive examples foster a more dynamic learning environment by facilitating a two-way flow of information between the learner and the teaching material. This approach caters to diverse learning styles and promotes a more personalized learning experience.\n",
      "\n",
      "Moreover, interactive examples can help learners to develop problem-solving skills, as they can try different strategies to resolve a problem and receive immediate feedback on their progress. This iterative process allows learners to identify their mistakes, analyze the reasons for those mistakes, and refine their strategies.\n",
      "\n",
      "Interactive examples also promote self-directed learning, as learners can explore the material at their own pace and revisit concepts as needed. This self-paced learning\n",
      "GenerationStats(num_backtracks=65, total_generated_toks_model=387, total_invocations_model=387, total_generated_toks_speculative=None, total_invocations_speculative=None, limit_reached=False)\n"
     ]
    }
   ],
   "execution_count": 10
  },
  {
   "metadata": {},
   "cell_type": "code",
   "outputs": [],
   "execution_count": null,
   "source": "",
   "id": "a824323c831906f4"
  }
 ],
 "metadata": {
  "kernelspec": {
   "display_name": "Python 3",
   "language": "python",
   "name": "python3"
  },
  "language_info": {
   "codemirror_mode": {
    "name": "ipython",
    "version": 2
   },
   "file_extension": ".py",
   "mimetype": "text/x-python",
   "name": "python",
   "nbconvert_exporter": "python",
   "pygments_lexer": "ipython2",
   "version": "2.7.6"
  }
 },
 "nbformat": 4,
 "nbformat_minor": 5
}
